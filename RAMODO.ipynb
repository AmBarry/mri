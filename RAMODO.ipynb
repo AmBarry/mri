{
 "cells": [
  {
   "cell_type": "code",
   "execution_count": 1,
   "metadata": {},
   "outputs": [
    {
     "name": "stderr",
     "output_type": "stream",
     "text": [
      "/Users/cgroza/ramodo/lib/python3.7/site-packages/pandas/compat/__init__.py:117: UserWarning: Could not import the lzma module. Your installed Python is incomplete. Attempting to use lzma compression will result in a RuntimeError.\n",
      "  warnings.warn(msg)\n",
      "Using TensorFlow backend.\n"
     ]
    }
   ],
   "source": [
    "import scipy\n",
    "import numpy as np\n",
    "\n",
    "np.random.seed(42)\n",
    "import tensorflow as tf\n",
    "tf.compat.v1.set_random_seed(42)\n",
    "sess = tf.compat.v1.Session()\n",
    "\n",
    "from keras import backend as K\n",
    "#K.set_session(sess)\n",
    "\n",
    "from keras.layers import Input, Dense, Layer\n",
    "from keras.models import Model, load_model\n",
    "from keras.callbacks import ModelCheckpoint, TensorBoard\n",
    "import matplotlib.pyplot as plt\n",
    "from sklearn.neighbors import NearestNeighbors, KDTree\n",
    "from sklearn.utils.random import sample_without_replacement\n",
    "import pandas as pd\n",
    "from sklearn.metrics.pairwise import pairwise_distances\n",
    "from utilities import dataLoading, cutoff_unsorted, aucPerformance, \\\n",
    "    normalization, writeRepresentation,writeResults, writeOutlierScores,visualizeData\n",
    "import time"
   ]
  },
  {
   "cell_type": "code",
   "execution_count": 2,
   "metadata": {},
   "outputs": [],
   "source": [
    "\"\"\"\n",
    "@author: Guansong Pang\n",
    "\n",
    "Source code for the REPEN algorithm in KDD'18. See the following paper for detail.\n",
    "Guansong Pang, Longbing Cao, Ling Chen, and Huan Liu. 2018. Learning Representations\n",
    "of Ultrahigh-dimensional Data for Random Distance-based Outlier Detection. \n",
    "In KDD 2018: 24th ACM SIGKDD International Conferenceon Knowledge Discovery & \n",
    "Data Mining, August 19–23, 2018, London, UnitedKingdom.\n",
    "\n",
    "This file is for experiments on csv data sets.\n",
    "\"\"\"\n",
    "\n",
    "\n",
    "\n",
    "\n",
    "MAX_INT = np.iinfo(np.int32).max\n",
    "MAX_FLOAT = np.finfo(np.float32).max\n",
    "#\n",
    "#import resource\n",
    "#\n",
    "#def limit_memory(maxsize):\n",
    "#    soft, hard = resource.getrlimit(resource.RLIMIT_AS)\n",
    "#    resource.setrlimit(resource.RLIMIT_AS, (maxsize, hard))\n",
    "\n",
    "def sqr_euclidean_dist(x,y):\n",
    "    return K.sum(K.square(x - y), axis=-1);\n",
    " \n",
    "\n",
    "class tripletRankingLossLayer(Layer):\n",
    "    \"\"\"Triplet ranking loss layer Class\n",
    "    \"\"\"\n",
    "\n",
    "    def __init__(self, **kwargs):\n",
    "        self.is_placeholder = True\n",
    "        super(tripletRankingLossLayer, self).__init__(**kwargs)\n",
    "        \n",
    "\n",
    "\n",
    "    def rankingLoss(self, input_example, input_positive, input_negative):\n",
    "        \"\"\"Return the mean of the triplet ranking loss\"\"\"\n",
    "        \n",
    "        positive_distances = sqr_euclidean_dist(input_example, input_positive)\n",
    "        negative_distances = sqr_euclidean_dist(input_example, input_negative)\n",
    "        loss = K.mean(K.maximum(0., 1000. - (negative_distances - positive_distances) ))\n",
    "        return loss\n",
    "    \n",
    "    def call(self, inputs):\n",
    "        input_example = inputs[0]\n",
    "        input_positive = inputs[1]\n",
    "        input_negative = inputs[2]\n",
    "        loss = self.rankingLoss(input_example, input_positive, input_negative)\n",
    "        self.add_loss(loss, inputs=inputs)\n",
    "        # We won't actually use the output.\n",
    "        return input_example;\n",
    "     \n",
    " \n",
    "def lesinn(x_train):\n",
    "    \"\"\"the outlier scoring method, a bagging ensemble of Sp. See the following reference for detail.\n",
    "    Pang, Guansong, Kai Ming Ting, and David Albrecht. \n",
    "    \"LeSiNN: Detecting anomalies by identifying least similar nearest neighbours.\" \n",
    "    In Data Mining Workshop (ICDMW), 2015 IEEE International Conference on, pp. 623-630. IEEE, 2015.\n",
    "    \"\"\"\n",
    "    rng = np.random.RandomState(42) \n",
    "    ensemble_size = 50\n",
    "    subsample_size = 8\n",
    "    scores = np.zeros([x_train.shape[0], 1])  \n",
    "    # for reproductibility purpose  \n",
    "    seeds = rng.randint(MAX_INT, size = ensemble_size)\n",
    "    for i in range(0, ensemble_size):\n",
    "        rs = np.random.RandomState(seeds[i])\n",
    "#        sid = np.random.choice(x_train.shape[0], subsample_size)\n",
    "        sid = sample_without_replacement(n_population = x_train.shape[0], n_samples = subsample_size, random_state = rs)\n",
    "        subsample = x_train[sid]\n",
    "        kdt = KDTree(subsample, metric='euclidean')\n",
    "        dists, indices = kdt.query(x_train, k = 1)       \n",
    "        scores += dists\n",
    "    scores = scores / ensemble_size  \n",
    "    return scores;\n",
    "\n",
    "\n",
    "def batch_generator(X, labels, batch_size, steps_per_epoch, scores, rng):\n",
    "    \"\"\"batch generator\n",
    "    \"\"\"\n",
    "    number_of_batches = steps_per_epoch\n",
    "    rng = np.random.RandomState(rng.randint(MAX_INT, size = 1))\n",
    "    counter = 0\n",
    "    while 1:        \n",
    "        X1, X2, X3 = tripletBatchGeneration(X, batch_size, rng, scores)\n",
    "        counter += 1\n",
    "        yield([np.array(X1), np.array(X2), np.array(X3)], None)\n",
    "        if (counter > number_of_batches):\n",
    "            counter = 0\n",
    "\n",
    "\n",
    "def tripletBatchGeneration(X, batch_size, rng, outlier_scores):\n",
    "    \"\"\"batch generation\n",
    "    \"\"\"\n",
    "    inlier_ids, outlier_ids = cutoff_unsorted(outlier_scores)\n",
    "    transforms = np.sum(outlier_scores[inlier_ids]) - outlier_scores[inlier_ids]\n",
    "    total_weights_p = np.sum(transforms)\n",
    "    positive_weights = transforms / total_weights_p\n",
    "    positive_weights = positive_weights.flatten()\n",
    "    total_weights_n = np.sum(outlier_scores[outlier_ids])\n",
    "    negative_weights = outlier_scores[outlier_ids] / total_weights_n\n",
    "    negative_weights = negative_weights.flatten()\n",
    "    examples = np.zeros([batch_size]).astype('int')\n",
    "    positives = np.zeros([batch_size]).astype('int')\n",
    "    negatives = np.zeros([batch_size]).astype('int')\n",
    "    \n",
    "    for i in range(0, batch_size):\n",
    "        sid = rng.choice(len(inlier_ids), 1, p = positive_weights)\n",
    "        examples[i] = inlier_ids[sid]\n",
    "        \n",
    "        sid2 = rng.choice(len(inlier_ids), 1)\n",
    "        \n",
    "        while sid2 == sid:\n",
    "            sid2 = rng.choice(len(inlier_ids), 1)        \n",
    "        positives[i] = inlier_ids[sid2]\n",
    "        sid = rng.choice(len(outlier_ids), 1, p = negative_weights)\n",
    "        negatives[i] = outlier_ids[sid]\n",
    "    examples = X[examples, :]\n",
    "    positives = X[positives, :]\n",
    "    negatives = X[negatives, :]\n",
    "    return examples, positives, negatives;\n",
    "\n",
    "\n",
    "    \n",
    "def tripletModel(input_dim, embedding_size = 20): \n",
    "    \"\"\"the learning model\n",
    "    \"\"\"\n",
    "    input_e = Input(shape=(input_dim,), name = 'input_e')\n",
    "    input_p = Input(shape=(input_dim,), name = 'input_p')\n",
    "    input_n = Input(shape=(input_dim,), name = 'input_n')\n",
    "    \n",
    "    hidden_layer = Dense(embedding_size, activation='relu', name = 'hidden_layer')\n",
    "    hidden_e = hidden_layer(input_e)\n",
    "    hidden_p = hidden_layer(input_p)\n",
    "    hidden_n = hidden_layer(input_n)\n",
    "    \n",
    "    output_layer = tripletRankingLossLayer()([hidden_e,hidden_p,hidden_n])\n",
    "    \n",
    "    rankModel = Model(inputs=[input_e, input_p, input_n], outputs=output_layer)\n",
    "    \n",
    "    representation = Model(inputs=input_e, outputs=hidden_e)\n",
    "    \n",
    "    print(rankModel.summary(), representation.summary())\n",
    "    return rankModel, representation;\n",
    "\n",
    "    \n",
    "def training_model(rankModel, X, labels,embedding_size, scores, filename, ite_num, rng = None):  \n",
    "    \"\"\"training the model\n",
    "    \"\"\"\n",
    "    \n",
    "    rankModel.compile(optimizer = 'adadelta', loss = None)\n",
    "    \n",
    "    checkpointer = ModelCheckpoint(\"./model/\" + str(embedding_size) + \"D_\" + str(ite_num) + \"_\"+ filename + \".h5\", monitor='loss',\n",
    "                               verbose=0, save_best_only = True, save_weights_only=True)\n",
    "    \n",
    "    \n",
    "    # training\n",
    "    batch_size = 256    \n",
    "    #samples_per_epoch = 10000\n",
    "    samples_per_epoch = X.shape[0]\n",
    "    steps_per_epoch = samples_per_epoch / batch_size\n",
    "    history = rankModel.fit_generator(batch_generator(X, labels, batch_size, steps_per_epoch, scores, rng),\n",
    "                              steps_per_epoch = steps_per_epoch,\n",
    "                              epochs = 20,\n",
    "                              shuffle = False,\n",
    "                              callbacks=[checkpointer])\n",
    "    plt.figure(figsize=(5, 5))\n",
    "    plt.plot(history.history['loss'])\n",
    "    plt.grid()\n",
    "    plt.title('model loss')\n",
    "    plt.xlabel('epochs')\n",
    "    plt.ylabel('loss')\n",
    "    plt.show()\n",
    "    \n",
    "\n",
    "def load_model_predict(model_name, X, labels, embedding_size, filename):\n",
    "    \"\"\"load the representation learning model and do the mappings.\n",
    "    LeSiNN, the Sp ensemble, is applied to perform outlier scoring\n",
    "    in the representation space.\n",
    "    \"\"\"\n",
    "    rankModel, representation = tripletModel(X.shape[1], embedding_size)  \n",
    "    rankModel.load_weights(model_name)\n",
    "    representation = Model(inputs=rankModel.input[0],\n",
    "                                 outputs=rankModel.get_layer('hidden_layer').get_output_at(0))\n",
    "    \n",
    "    new_X = representation.predict(X)  \n",
    "#    writeRepresentation(new_X, labels, embedding_size, filename + str(embedding_size) + \"D_RankOD\")\n",
    "    scores = lesinn(new_X)\n",
    "    rauc = aucPerformance(scores, labels)\n",
    "    writeResults(filename, embedding_size, rauc)\n",
    "#    writeOutlierScores(scores, labels, str(embedding_size) + \"D_\"+filename)\n",
    "    return rauc\n",
    "\n",
    "def test_diff_embeddings(X, labels, outlier_scores, filename):\n",
    "    \"\"\"sensitivity test w.r.t. different representation dimensions\n",
    "    \"\"\"\n",
    "    embeddings = np.arange(1, 11)\n",
    "    for j in range(0,len(embeddings)):\n",
    "        embedding_size = embeddings[j]\n",
    "        test_single_embedding(X, labels, outlier_scores, filename, embedding_size)\n",
    "        \n",
    "\n",
    "def test_single_embedding(X, labels, outlier_scores, filename, embedding_size = 20):\n",
    "    \"\"\"perform representation learning with a fixed representation dimension\n",
    "    and outlier detection using LeSiNN\n",
    "    \"\"\"\n",
    "    runs = 1\n",
    "    rauc = np.empty([runs, 1])    \n",
    "    rng = np.random.RandomState(42) \n",
    "    for i in range(0,runs):\n",
    "        rankModel, representation = tripletModel(X.shape[1], embedding_size)    \n",
    "        training_model(rankModel, X, labels, embedding_size, outlier_scores, filename, i, rng)\n",
    "        \n",
    "        modelName = \"./model/\" + str(embedding_size) + \"D_\" + str(i)+ \"_\" + filename + '.h5'\n",
    "        rauc[i] = load_model_predict(modelName, X, labels, embedding_size,filename)\n",
    "    mean_auc = np.mean(rauc)\n",
    "    s_auc = np.std(rauc)\n",
    "#    print(mean_auc)\n",
    "    writeResults(filename, embedding_size, mean_auc, std_auc = s_auc)\n"
   ]
  },
  {
   "cell_type": "code",
   "execution_count": 3,
   "metadata": {},
   "outputs": [],
   "source": [
    "import pandas as pd\n",
    "data = pd.read_csv(\"Data Sets/K9.data\", header = None, na_values = [\"?\"])\n",
    "data = data[ data.columns[0:5409] ]\n",
    "data.dropna(inplace = True)\n"
   ]
  },
  {
   "cell_type": "code",
   "execution_count": 4,
   "metadata": {},
   "outputs": [],
   "source": [
    "labels = data[5408].to_numpy()\n",
    "X = data[ data.columns[0:5408] ].to_numpy()\n"
   ]
  },
  {
   "cell_type": "code",
   "execution_count": 5,
   "metadata": {},
   "outputs": [],
   "source": [
    "d = {\"active\" : 1, \"inactive\" : -1}\n",
    "labels = np.array([d[l] for l in labels])"
   ]
  },
  {
   "cell_type": "code",
   "execution_count": 6,
   "metadata": {},
   "outputs": [
    {
     "data": {
      "text/plain": [
       "31008"
      ]
     },
     "execution_count": 6,
     "metadata": {},
     "output_type": "execute_result"
    }
   ],
   "source": [
    "np.sum(labels == -1) "
   ]
  },
  {
   "cell_type": "code",
   "execution_count": 7,
   "metadata": {},
   "outputs": [],
   "source": [
    "outlier_scores = lesinn(X)"
   ]
  },
  {
   "cell_type": "code",
   "execution_count": 8,
   "metadata": {},
   "outputs": [
    {
     "data": {
      "text/plain": [
       "array([[114.83051027],\n",
       "       [114.85017917],\n",
       "       [114.97938248],\n",
       "       ...,\n",
       "       [610.97798286],\n",
       "       [613.00612228],\n",
       "       [645.91702353]])"
      ]
     },
     "execution_count": 8,
     "metadata": {},
     "output_type": "execute_result"
    }
   ],
   "source": [
    "np.sort(outlier_scores, axis=0)\n"
   ]
  },
  {
   "cell_type": "code",
   "execution_count": 11,
   "metadata": {},
   "outputs": [
    {
     "data": {
      "text/plain": [
       "(array([4.210e+02, 1.107e+03, 1.509e+03, 1.676e+03, 1.710e+03, 1.862e+03,\n",
       "        1.373e+03, 1.251e+03, 1.085e+03, 9.730e+02, 1.113e+03, 1.219e+03,\n",
       "        1.060e+03, 1.072e+03, 8.320e+02, 7.170e+02, 6.990e+02, 5.600e+02,\n",
       "        8.910e+02, 9.910e+02, 9.090e+02, 8.130e+02, 7.230e+02, 6.480e+02,\n",
       "        5.980e+02, 5.890e+02, 5.460e+02, 4.820e+02, 4.080e+02, 3.670e+02,\n",
       "        2.930e+02, 2.620e+02, 2.280e+02, 2.310e+02, 1.890e+02, 1.570e+02,\n",
       "        1.350e+02, 1.510e+02, 1.040e+02, 1.000e+02, 8.900e+01, 7.400e+01,\n",
       "        6.700e+01, 5.100e+01, 5.200e+01, 4.800e+01, 3.500e+01, 4.000e+01,\n",
       "        2.500e+01, 2.000e+01, 1.800e+01, 1.300e+01, 1.600e+01, 1.200e+01,\n",
       "        1.600e+01, 1.700e+01, 1.500e+01, 1.500e+01, 9.000e+00, 7.000e+00,\n",
       "        8.000e+00, 1.600e+01, 3.000e+00, 1.200e+01, 7.000e+00, 3.000e+00,\n",
       "        5.000e+00, 5.000e+00, 3.000e+00, 4.000e+00, 4.000e+00, 5.000e+00,\n",
       "        5.000e+00, 9.000e+00, 1.200e+01, 1.300e+01, 1.100e+01, 7.000e+00,\n",
       "        6.000e+00, 4.000e+00, 6.000e+00, 0.000e+00, 3.000e+00, 4.000e+00,\n",
       "        3.000e+00, 1.000e+00, 0.000e+00, 0.000e+00, 1.000e+00, 0.000e+00,\n",
       "        0.000e+00, 0.000e+00, 1.790e+02, 1.260e+02, 0.000e+00, 0.000e+00,\n",
       "        0.000e+00, 0.000e+00, 0.000e+00, 1.000e+00]),\n",
       " array([114.83051027, 120.1413754 , 125.45224053, 130.76310566,\n",
       "        136.0739708 , 141.38483593, 146.69570106, 152.00656619,\n",
       "        157.31743133, 162.62829646, 167.93916159, 173.25002672,\n",
       "        178.56089186, 183.87175699, 189.18262212, 194.49348725,\n",
       "        199.80435239, 205.11521752, 210.42608265, 215.73694778,\n",
       "        221.04781292, 226.35867805, 231.66954318, 236.98040832,\n",
       "        242.29127345, 247.60213858, 252.91300371, 258.22386885,\n",
       "        263.53473398, 268.84559911, 274.15646424, 279.46732938,\n",
       "        284.77819451, 290.08905964, 295.39992477, 300.71078991,\n",
       "        306.02165504, 311.33252017, 316.6433853 , 321.95425044,\n",
       "        327.26511557, 332.5759807 , 337.88684584, 343.19771097,\n",
       "        348.5085761 , 353.81944123, 359.13030637, 364.4411715 ,\n",
       "        369.75203663, 375.06290176, 380.3737669 , 385.68463203,\n",
       "        390.99549716, 396.30636229, 401.61722743, 406.92809256,\n",
       "        412.23895769, 417.54982282, 422.86068796, 428.17155309,\n",
       "        433.48241822, 438.79328335, 444.10414849, 449.41501362,\n",
       "        454.72587875, 460.03674389, 465.34760902, 470.65847415,\n",
       "        475.96933928, 481.28020442, 486.59106955, 491.90193468,\n",
       "        497.21279981, 502.52366495, 507.83453008, 513.14539521,\n",
       "        518.45626034, 523.76712548, 529.07799061, 534.38885574,\n",
       "        539.69972087, 545.01058601, 550.32145114, 555.63231627,\n",
       "        560.94318141, 566.25404654, 571.56491167, 576.8757768 ,\n",
       "        582.18664194, 587.49750707, 592.8083722 , 598.11923733,\n",
       "        603.43010247, 608.7409676 , 614.05183273, 619.36269786,\n",
       "        624.673563  , 629.98442813, 635.29529326, 640.60615839,\n",
       "        645.91702353]),\n",
       " <a list of 100 Patch objects>)"
      ]
     },
     "execution_count": 11,
     "metadata": {},
     "output_type": "execute_result"
    },
    {
     "data": {
      "image/png": "[encoded data removed]",
      "text/plain": [
       "<Figure size 432x288 with 1 Axes>"
      ]
     },
     "metadata": {
      "needs_background": "light"
     },
     "output_type": "display_data"
    }
   ],
   "source": [
    "plt.hist(outlier_scores, bins = 100)"
   ]
  },
  {
   "cell_type": "code",
   "execution_count": 84,
   "metadata": {},
   "outputs": [
    {
     "name": "stdout",
     "output_type": "stream",
     "text": [
      "Model: \"model_17\"\n",
      "__________________________________________________________________________________________________\n",
      "Layer (type)                    Output Shape         Param #     Connected to                     \n",
      "==================================================================================================\n",
      "input_e (InputLayer)            (None, 5408)         0                                            \n",
      "__________________________________________________________________________________________________\n",
      "input_p (InputLayer)            (None, 5408)         0                                            \n",
      "__________________________________________________________________________________________________\n",
      "input_n (InputLayer)            (None, 5408)         0                                            \n",
      "__________________________________________________________________________________________________\n",
      "hidden_layer (Dense)            (None, 40)           216360      input_e[0][0]                    \n",
      "                                                                 input_p[0][0]                    \n",
      "                                                                 input_n[0][0]                    \n",
      "__________________________________________________________________________________________________\n",
      "triplet_ranking_loss_layer_8 (t [(None, 40), (None,  0           hidden_layer[0][0]               \n",
      "                                                                 hidden_layer[1][0]               \n",
      "                                                                 hidden_layer[2][0]               \n",
      "==================================================================================================\n",
      "Total params: 216,360\n",
      "Trainable params: 216,360\n",
      "Non-trainable params: 0\n",
      "__________________________________________________________________________________________________\n",
      "Model: \"model_18\"\n",
      "_________________________________________________________________\n",
      "Layer (type)                 Output Shape              Param #   \n",
      "=================================================================\n",
      "input_e (InputLayer)         (None, 5408)              0         \n",
      "_________________________________________________________________\n",
      "hidden_layer (Dense)         (None, 40)                216360    \n",
      "=================================================================\n",
      "Total params: 216,360\n",
      "Trainable params: 216,360\n",
      "Non-trainable params: 0\n",
      "_________________________________________________________________\n",
      "None None\n"
     ]
    },
    {
     "name": "stderr",
     "output_type": "stream",
     "text": [
      "/Users/cgroza/ramodo/lib/python3.7/site-packages/keras/engine/training_utils.py:819: UserWarning: Output triplet_ranking_loss_layer_8 missing from loss dictionary. We assume this was done on purpose. The fit and evaluate APIs will not be expecting any data to be passed to triplet_ranking_loss_layer_8.\n",
      "  'be expecting any data to be passed to {0}.'.format(name))\n"
     ]
    },
    {
     "name": "stdout",
     "output_type": "stream",
     "text": [
      "Epoch 1/20\n",
      "122/121 [==============================] - 50s 411ms/step - loss: 18.8637\n",
      "Epoch 2/20\n",
      "122/121 [==============================] - 44s 365ms/step - loss: 6.4241\n",
      "Epoch 3/20\n",
      "122/121 [==============================] - 44s 363ms/step - loss: 4.5533\n",
      "Epoch 4/20\n",
      "122/121 [==============================] - 43s 354ms/step - loss: 3.9566\n",
      "Epoch 5/20\n",
      "122/121 [==============================] - 43s 350ms/step - loss: 3.3049\n",
      "Epoch 6/20\n",
      "122/121 [==============================] - 43s 354ms/step - loss: 3.0678\n",
      "Epoch 7/20\n",
      "122/121 [==============================] - 43s 349ms/step - loss: 2.7172\n",
      "Epoch 8/20\n",
      "122/121 [==============================] - 43s 354ms/step - loss: 2.3268\n",
      "Epoch 9/20\n",
      "122/121 [==============================] - 43s 356ms/step - loss: 2.2178\n",
      "Epoch 10/20\n",
      "122/121 [==============================] - 44s 359ms/step - loss: 1.8098\n",
      "Epoch 11/20\n",
      "122/121 [==============================] - 43s 354ms/step - loss: 2.2790\n",
      "Epoch 12/20\n",
      "122/121 [==============================] - 43s 353ms/step - loss: 1.6979\n",
      "Epoch 13/20\n",
      "122/121 [==============================] - 43s 354ms/step - loss: 1.7742\n",
      "Epoch 14/20\n",
      "122/121 [==============================] - 43s 355ms/step - loss: 1.5956\n",
      "Epoch 15/20\n",
      "122/121 [==============================] - 43s 355ms/step - loss: 0.7137\n",
      "Epoch 16/20\n",
      "122/121 [==============================] - 43s 355ms/step - loss: 1.3849\n",
      "Epoch 17/20\n",
      "122/121 [==============================] - 43s 356ms/step - loss: 1.7472\n",
      "Epoch 18/20\n",
      "122/121 [==============================] - 44s 359ms/step - loss: 0.8933\n",
      "Epoch 19/20\n",
      "122/121 [==============================] - 42s 341ms/step - loss: 1.6399\n",
      "Epoch 20/20\n",
      "122/121 [==============================] - 44s 363ms/step - loss: 0.9516\n"
     ]
    },
    {
     "data": {
      "image/png": "[encoded data removed]",
      "text/plain": [
       "<Figure size 360x360 with 1 Axes>"
      ]
     },
     "metadata": {
      "needs_background": "light"
     },
     "output_type": "display_data"
    },
    {
     "name": "stdout",
     "output_type": "stream",
     "text": [
      "Model: \"model_19\"\n",
      "__________________________________________________________________________________________________\n",
      "Layer (type)                    Output Shape         Param #     Connected to                     \n",
      "==================================================================================================\n",
      "input_e (InputLayer)            (None, 5408)         0                                            \n",
      "__________________________________________________________________________________________________\n",
      "input_p (InputLayer)            (None, 5408)         0                                            \n",
      "__________________________________________________________________________________________________\n",
      "input_n (InputLayer)            (None, 5408)         0                                            \n",
      "__________________________________________________________________________________________________\n",
      "hidden_layer (Dense)            (None, 40)           216360      input_e[0][0]                    \n",
      "                                                                 input_p[0][0]                    \n",
      "                                                                 input_n[0][0]                    \n",
      "__________________________________________________________________________________________________\n",
      "triplet_ranking_loss_layer_9 (t [(None, 40), (None,  0           hidden_layer[0][0]               \n",
      "                                                                 hidden_layer[1][0]               \n",
      "                                                                 hidden_layer[2][0]               \n",
      "==================================================================================================\n",
      "Total params: 216,360\n",
      "Trainable params: 216,360\n",
      "Non-trainable params: 0\n",
      "__________________________________________________________________________________________________\n",
      "Model: \"model_20\"\n",
      "_________________________________________________________________\n",
      "Layer (type)                 Output Shape              Param #   \n",
      "=================================================================\n",
      "input_e (InputLayer)         (None, 5408)              0         \n",
      "_________________________________________________________________\n",
      "hidden_layer (Dense)         (None, 40)                216360    \n",
      "=================================================================\n",
      "Total params: 216,360\n",
      "Trainable params: 216,360\n",
      "Non-trainable params: 0\n",
      "_________________________________________________________________\n",
      "None None\n",
      "0.6041344169246646\n"
     ]
    },
    {
     "data": {
      "image/png": "[encoded data removed]",
      "text/plain": [
       "<Figure size 432x288 with 1 Axes>"
      ]
     },
     "metadata": {
      "needs_background": "light"
     },
     "output_type": "display_data"
    },
    {
     "data": {
      "text/plain": [
       "<Figure size 432x288 with 0 Axes>"
      ]
     },
     "metadata": {},
     "output_type": "display_data"
    }
   ],
   "source": [
    "test_single_embedding(X, labels, outlier_scores, \"p53\", 20)"
   ]
  },
  {
   "cell_type": "code",
   "execution_count": null,
   "metadata": {},
   "outputs": [],
   "source": []
  }
 ],
 "metadata": {
  "kernelspec": {
   "display_name": "Python 3",
   "language": "python",
   "name": "python3"
  },
  "language_info": {
   "codemirror_mode": {
    "name": "ipython",
    "version": 3
   },
   "file_extension": ".py",
   "mimetype": "text/x-python",
   "name": "python",
   "nbconvert_exporter": "python",
   "pygments_lexer": "ipython3",
   "version": "3.7.7"
  }
 },
 "nbformat": 4,
 "nbformat_minor": 4
}
